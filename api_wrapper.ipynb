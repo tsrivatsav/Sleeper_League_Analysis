{
 "cells": [
  {
   "cell_type": "markdown",
   "metadata": {},
   "source": [
    "Import necessary dependencies"
   ]
  },
  {
   "cell_type": "code",
   "execution_count": 1,
   "metadata": {},
   "outputs": [],
   "source": [
    "from sleeper_wrapper import League\n",
    "\n"
   ]
  },
  {
   "cell_type": "code",
   "execution_count": 2,
   "metadata": {},
   "outputs": [
    {
     "name": "stdout",
     "output_type": "stream",
     "text": [
      "[('Salty Tua', '5', '1', '1002'), ('A-mon on a mission', '5', '1', '837'), ('Lucho123', '4', '2', '838'), ('Easy Pickens', '4', '2', '811'), ('Tuanon Confederation ', '4', '2', '765'), (\"LaMickey's Negotiators\", '3', '3', '749'), ('dakerman', '2', '4', '851'), ('Scrote Squad', '2', '4', '719'), ('ErozEn30', '1', '5', '661'), ('AFC Richardson', '0', '6', '626')]\n"
     ]
    }
   ],
   "source": [
    "# creates the league object and stores its basic data\n",
    "league = League(978478860268351488)\n",
    "rosters = league.get_rosters()\n",
    "users = league.get_users()\n",
    "\n",
    "# gets the matchups for the first week\n",
    "matchups = league.get_matchups(week=1)\n",
    "\n",
    "# retrieves the standings and returns them with user information\n",
    "standings = league.get_standings(rosters=rosters, users=users)\n",
    "\n",
    "print(standings)"
   ]
  },
  {
   "cell_type": "code",
   "execution_count": 3,
   "metadata": {},
   "outputs": [
    {
     "name": "stdout",
     "output_type": "stream",
     "text": [
      "[{'player_id': '5916', 'count': 465291}, {'player_id': '4111', 'count': 147022}, {'player_id': '345', 'count': 87005}, {'player_id': '9482', 'count': 61658}, {'player_id': '5917', 'count': 59430}, {'player_id': '9481', 'count': 55989}, {'player_id': '4144', 'count': 52535}, {'player_id': '4454', 'count': 48156}, {'player_id': '5046', 'count': 42981}, {'player_id': '1476', 'count': 40717}]\n"
     ]
    }
   ],
   "source": [
    "from sleeper_wrapper import Players\n",
    "\n",
    "players = Players()\n",
    "\n",
    "# gets all NFL players in the Sleeper system\n",
    "all_players = players.get_all_players()\n",
    "\n",
    "# gets the top 10 added NFL players in the last 24 hours\n",
    "trending_players = players.get_trending_players(sport=\"nfl\", add_drop=\"add\", hours=24, limit=10)\n",
    "print(trending_players)"
   ]
  },
  {
   "cell_type": "code",
   "execution_count": 4,
   "metadata": {},
   "outputs": [
    {
     "name": "stdout",
     "output_type": "stream",
     "text": [
      "{'pts_ppr': 10.0, 'pts_std': 10.0, 'pts_half_ppr': 10.0}\n"
     ]
    }
   ],
   "source": [
    "from sleeper_wrapper import Stats\n",
    "\n",
    "stats = Stats()\n",
    "\n",
    "# pulls all of the stats for week 1 of the 2023 regular season\n",
    "week_stats = stats.get_week_stats(\"regular\", 2023, 6)\n",
    "\n",
    "# retrieves stats for the Detroit defense for the provided week\n",
    "score = stats.get_player_week_score(week_stats, \"DET\")\n",
    "print(score)"
   ]
  },
  {
   "cell_type": "code",
   "execution_count": 10,
   "metadata": {},
   "outputs": [
    {
     "name": "stdout",
     "output_type": "stream",
     "text": [
      "[{'taxi': ['10235', '9227'], 'starters': ['4984', '8136', '7611', '9997', '7525', '4066', '4454', '6803', '4179'], 'settings': {'wins': 2, 'waiver_position': 5, 'waiver_budget_used': -70, 'total_moves': 0, 'ties': 0, 'ppts_decimal': 98, 'ppts': 893, 'losses': 4, 'fpts_decimal': 68, 'fpts_against_decimal': 15, 'fpts_against': 777, 'fpts': 719, 'division': 1}, 'roster_id': 1, 'reserve': ['4988', '7608'], 'players': ['10235', '3969', '4018', '4066', '4179', '4454', '4455', '4984', '4988', '5008', '6803', '6920', '745', '7525', '7569', '7608', '7611', '8110', '8126', '8136', '8140', '8146', '8172', '8230', '9227', '9753', '9758', '9997'], 'player_map': None, 'owner_id': '859927095139270656', 'metadata': {'streak': '2L', 'record': 'WLLWLL'}, 'league_id': '978478860268351488', 'keepers': None, 'co_owners': None}, {'taxi': ['9222'], 'starters': ['6904', '5850', '8138', '5859', '5927', '5844', '9493', '8167', '6804'], 'settings': {'wins': 2, 'waiver_position': 2, 'waiver_budget_used': -35, 'total_moves': 0, 'ties': 0, 'ppts_decimal': 55, 'ppts': 987, 'losses': 4, 'fpts_decimal': 33, 'fpts_against_decimal': 88, 'fpts_against': 822, 'fpts': 851, 'division': 2}, 'roster_id': 2, 'reserve': ['4137', '96'], 'players': ['1352', '4033', '4111', '4137', '5045', '5844', '5850', '5859', '5917', '5927', '5955', '6804', '6886', '6904', '6945', '8129', '8138', '8147', '8159', '8160', '8167', '8221', '9222', '9493', '9494', '96'], 'player_map': None, 'owner_id': '934257798362341376', 'metadata': {'streak': '2L', 'record': 'LWLWLL'}, 'league_id': '978478860268351488', 'keepers': None, 'co_owners': None}, {'taxi': None, 'starters': ['6768', '4866', '2749', '2449', '6943', '5012', '5284', '4950', '8183'], 'settings': {'wins': 4, 'waiver_position': 3, 'waiver_budget_used': 100, 'total_moves': 0, 'ties': 0, 'ppts_decimal': 58, 'ppts': 1039, 'losses': 2, 'fpts_decimal': 40, 'fpts_against_decimal': 75, 'fpts_against': 807, 'fpts': 838, 'division': 1}, 'roster_id': 3, 'reserve': ['6151'], 'players': ['1476', '1535', '1837', '2197', '2449', '2505', '2749', '3271', '4866', '4950', '4951', '5012', '5038', '5284', '5872', '5892', '5906', '6151', '6768', '6801', '6853', '6943', '8131', '8132', '8183'], 'player_map': None, 'owner_id': '867876367142948864', 'metadata': {'streak': '1L', 'record': 'WWWLWL'}, 'league_id': '978478860268351488', 'keepers': None, 'co_owners': None}, {'taxi': ['10232', '10444', '9998'], 'starters': ['345', '8228', '9221', '2309', '6783', '4144', '8144', '8676', '8121'], 'settings': {'wins': 1, 'waiver_position': 10, 'waiver_budget_used': -2, 'total_moves': 0, 'ties': 0, 'ppts_decimal': 6, 'ppts': 873, 'losses': 5, 'fpts_decimal': 68, 'fpts_against_decimal': 88, 'fpts_against': 780, 'fpts': 661, 'division': 2}, 'roster_id': 4, 'reserve': ['6794', '6806'], 'players': ['10232', '10236', '10444', '2309', '3294', '345', '4144', '4147', '4381', '5086', '5870', '5995', '6783', '6794', '6806', '7538', '7567', '7588', '7591', '8121', '8144', '8168', '8210', '8228', '8676', '9221', '9480', '9502', '9998'], 'player_map': None, 'owner_id': '979271462437572608', 'metadata': {'streak': '1W', 'record': 'LLLLLW'}, 'league_id': '978478860268351488', 'keepers': None, 'co_owners': None}, {'taxi': None, 'starters': ['1166', '3164', '8205', '4082', '4981', '1466', '1479', '2216', '4892'], 'settings': {'wins': 5, 'waiver_position': 1, 'waiver_budget_used': 30, 'total_moves': 0, 'ties': 0, 'ppts_decimal': 77, 'ppts': 1133, 'losses': 1, 'fpts_decimal': 78, 'fpts_against_decimal': 3, 'fpts_against': 744, 'fpts': 1002, 'division': 1}, 'roster_id': 5, 'reserve': ['9226'], 'players': ['1166', '1234', '1339', '1466', '1479', '2216', '3164', '3214', '4029', '4034', '4082', '4089', '4171', '4177', '4892', '4981', '5185', '6918', '6938', '7090', '7561', '7564', '8125', '8205', '9226'], 'player_map': None, 'owner_id': '996563003929796608', 'metadata': {'streak': '1L', 'record': 'WWWWWL'}, 'league_id': '978478860268351488', 'keepers': None, 'co_owners': None}, {'taxi': ['10222', '9492', '9508'], 'starters': ['7523', '7543', '4199', '3321', '7547', '10859', '5848', '7670', '2028'], 'settings': {'wins': 5, 'waiver_position': 8, 'waiver_budget_used': 51, 'total_moves': 0, 'ties': 0, 'ppts_decimal': 82, 'ppts': 1001, 'losses': 1, 'fpts_decimal': 22, 'fpts_against_decimal': 38, 'fpts_against': 747, 'fpts': 837, 'division': 2}, 'roster_id': 6, 'reserve': ['4068'], 'players': ['10222', '10859', '11199', '11256', '2028', '2078', '3321', '4068', '4199', '5848', '5967', '6126', '6149', '6786', '7021', '7523', '7543', '7547', '7562', '7596', '7600', '7670', '8154', '8408', '9228', '947', '9492', '9508'], 'player_map': None, 'owner_id': '870455446538985472', 'metadata': {'streak': '4W', 'record': 'WLWWWW'}, 'league_id': '978478860268351488', 'keepers': None, 'co_owners': None}, {'taxi': ['10229', '9481'], 'starters': ['4881', '9509', '8143', '5846', '4037', '4217', '5987', '9756', '4017'], 'settings': {'wins': 3, 'waiver_position': 6, 'waiver_budget_used': 38, 'total_moves': 0, 'ties': 0, 'ppts_decimal': 30, 'ppts': 949, 'losses': 3, 'fpts_decimal': 63, 'fpts_against_decimal': 16, 'fpts_against': 751, 'fpts': 749, 'division': 1}, 'roster_id': 7, 'reserve': ['5849'], 'players': ['10229', '1689', '3225', '4017', '4037', '4040', '4080', '4098', '4217', '4881', '5248', '5846', '5849', '5987', '6011', '6828', '6845', '7045', '7066', '7828', '8134', '8143', '8148', '8155', '9481', '9509', '9756'], 'player_map': None, 'owner_id': '867861194491506688', 'metadata': {'streak': '1W', 'record': 'LLWWLW'}, 'league_id': '978478860268351488', 'keepers': None, 'co_owners': None}, {'taxi': None, 'starters': ['4046', '4663', '4035', '7526', '2133', '5022', '4039', '2374', '3163'], 'settings': {'wins': 4, 'waiver_position': 4, 'waiver_budget_used': 5, 'total_moves': 0, 'ties': 0, 'ppts_decimal': 52, 'ppts': 827, 'losses': 2, 'fpts_decimal': 67, 'fpts_against_decimal': 13, 'fpts_against': 730, 'fpts': 765, 'division': 2}, 'roster_id': 8, 'reserve': None, 'players': ['1067', '1992', '2133', '2251', '2374', '3163', '3198', '4035', '4039', '4046', '421', '4663', '5022', '5937', '5970', '7526', '7565', '7601', '7610', '9224', '9225', '9479', '9482', '9497'], 'player_map': None, 'owner_id': '859924767849963520', 'metadata': {'streak': '2W', 'record': 'LWWLWW'}, 'league_id': '978478860268351488', 'keepers': None, 'co_owners': None}, {'taxi': ['10221', '9504', '9999'], 'starters': ['7527', '6813', '7528', '6819', '8112', '7553', '9754', '8119', '7606'], 'settings': {'wins': 0, 'waiver_position': 9, 'waiver_budget_used': 157, 'total_moves': 0, 'ties': 0, 'ppts_decimal': 33, 'ppts': 783, 'losses': 6, 'fpts_decimal': 39, 'fpts_against_decimal': 8, 'fpts_against': 902, 'fpts': 626, 'division': 1}, 'roster_id': 9, 'reserve': ['8195', '9229'], 'players': ['10213', '10221', '10225', '1426', '5916', '6770', '6813', '6819', '6824', '6955', '7527', '7528', '7553', '7571', '7606', '8112', '8119', '8130', '8135', '8142', '8188', '8195', '8253', '9229', '9504', '9511', '9754', '9757', '9999'], 'player_map': None, 'owner_id': '991539775981019136', 'metadata': {'streak': '6L', 'record': 'LLLLLL'}, 'league_id': '978478860268351488', 'keepers': None, 'co_owners': None}, {'taxi': ['9486', '9501', '9505'], 'starters': ['6797', '6790', '8151', '4983', '5947', '6826', '8137', '9488', '8162'], 'settings': {'wins': 4, 'waiver_position': 7, 'waiver_budget_used': 20, 'total_moves': 0, 'ties': 0, 'ppts_decimal': 99, 'ppts': 961, 'losses': 2, 'fpts_decimal': 39, 'fpts_against_decimal': 73, 'fpts_against': 800, 'fpts': 811, 'division': 2}, 'roster_id': 10, 'reserve': ['4149', '8150'], 'players': ['1049', '11439', '1373', '2711', '3199', '4149', '4983', '5001', '5121', '5857', '5947', '6074', '6130', '6659', '6790', '6797', '6826', '7496', '7594', '8111', '8137', '8150', '8151', '8162', '9486', '9488', '9500', '9501', '9505'], 'player_map': None, 'owner_id': '993326596813545472', 'metadata': {'streak': '2W', 'restrict_pn_scoring_starters_only': 'on', 'record': 'WWLLWW', 'allow_pn_scoring': 'on', 'allow_pn_player_injury_status': 'on', 'allow_pn_inactive_starters': 'on'}, 'league_id': '978478860268351488', 'keepers': None, 'co_owners': None}]\n",
      "10\n",
      "[{'user_id': '859924767849963520', 'settings': None, 'metadata': {'team_name': 'Tuanon Confederation ', 'mention_pn': 'on', 'allow_pn': 'on'}, 'league_id': '978478860268351488', 'is_owner': None, 'is_bot': False, 'display_name': 'typerez12', 'avatar': 'e7af4deab0289b4f5505646424895246'}, {'user_id': '859927095139270656', 'settings': None, 'metadata': {'team_name': 'Scrote Squad', 'mention_pn': 'on', 'allow_pn': 'on'}, 'league_id': '978478860268351488', 'is_owner': True, 'is_bot': False, 'display_name': 'chasmeister', 'avatar': 'b319fdf8b7b5b0359d3c78622ba4d70c'}, {'user_id': '867861194491506688', 'settings': None, 'metadata': {'team_name': \"LaMickey's Negotiators\", 'mention_pn': 'on', 'avatar': 'https://sleepercdn.com/uploads/db0218a542a186e1d98444ab1d0a9850.jpg', 'allow_pn': 'on'}, 'league_id': '978478860268351488', 'is_owner': None, 'is_bot': False, 'display_name': 'tejas299', 'avatar': '8eb8f8bf999945d523f2c4033f70473e'}, {'user_id': '867876367142948864', 'settings': None, 'metadata': {'mention_pn': 'on', 'allow_sms': 'on', 'allow_pn': 'on'}, 'league_id': '978478860268351488', 'is_owner': None, 'is_bot': False, 'display_name': 'Lucho123', 'avatar': '4f4090e5e9c3941414db40a871e3e909'}, {'user_id': '870455446538985472', 'settings': None, 'metadata': {'team_name': 'A-mon on a mission', 'mention_pn': 'on', 'allow_pn': 'on'}, 'league_id': '978478860268351488', 'is_owner': None, 'is_bot': False, 'display_name': 'dmroth98', 'avatar': '3d7c2ca012d1a43b5e73b91a46245ccf'}, {'user_id': '934257798362341376', 'settings': None, 'metadata': {'mention_pn': 'on', 'allow_pn': 'on'}, 'league_id': '978478860268351488', 'is_owner': True, 'is_bot': False, 'display_name': 'dakerman', 'avatar': 'f0edbf4278f53f9425db175073df6584'}, {'user_id': '979271462437572608', 'settings': None, 'metadata': {'mention_pn': 'on', 'allow_sms': 'on', 'allow_pn': 'on'}, 'league_id': '978478860268351488', 'is_owner': None, 'is_bot': False, 'display_name': 'ErozEn30', 'avatar': 'b319fdf8b7b5b0359d3c78622ba4d70c'}, {'user_id': '991539775981019136', 'settings': None, 'metadata': {'team_name': 'AFC Richardson', 'mention_pn': 'on', 'allow_sms': 'on', 'allow_pn': 'on'}, 'league_id': '978478860268351488', 'is_owner': None, 'is_bot': False, 'display_name': 'andresbarrios1', 'avatar': 'f0edbf4278f53f9425db175073df6584'}, {'user_id': '993326596813545472', 'settings': None, 'metadata': {'user_message_pn': 'on', 'transaction_waiver': 'on', 'transaction_trade': 'on', 'transaction_free_agent': 'on', 'transaction_commissioner': 'on', 'trade_block_pn': 'on', 'team_name_update': 'on', 'team_name': 'Easy Pickens', 'player_nickname_update': 'on', 'player_like_pn': 'on', 'mention_pn': 'on', 'mascot_message': 'on', 'avatar': 'https://sleepercdn.com/uploads/345ea349b75a8aea88026a397e7f8b07.jpg', 'allow_sms': 'on', 'allow_pn': 'on'}, 'league_id': '978478860268351488', 'is_owner': None, 'is_bot': False, 'display_name': 'demir0920', 'avatar': 'b3338675f635c2c1f42b469621d38ec6'}, {'user_id': '996563003929796608', 'settings': None, 'metadata': {'team_name': 'Salty Tua', 'mention_pn': 'on', 'avatar': 'https://sleepercdn.com/uploads/51198c59ebcf4ffd17a34150887c5a8e.jpg', 'allow_sms': 'on', 'allow_pn': 'on'}, 'league_id': '978478860268351488', 'is_owner': None, 'is_bot': False, 'display_name': 'rafaloku', 'avatar': 'f0edbf4278f53f9425db175073df6584'}]\n"
     ]
    }
   ],
   "source": [
    "print(rosters)\n",
    "print(len(rosters))\n",
    "print(users)"
   ]
  },
  {
   "cell_type": "markdown",
   "metadata": {},
   "source": [
    "I link player names to player_ids using a dataset from this repo:\n",
    "https://github.com/mayscopeland/ffb_ids"
   ]
  },
  {
   "cell_type": "code",
   "execution_count": 66,
   "metadata": {},
   "outputs": [],
   "source": [
    "import pandas as pd\n",
    "import json\n",
    "\n",
    "owner_id, wins, losses, wb, max_pf, pf, pa = [], [], [], [], [], [], [] \n",
    "player_name, player_id, owner_id2 = [], [], []\n",
    "\n",
    "# Opening JSON file\n",
    "f = open('Datasets/sleeper_players.json')\n",
    " \n",
    "# returns JSON object as \n",
    "# a dictionary\n",
    "data = json.load(f)\n",
    "\n",
    "for user in users:\n",
    "    roster = [roster for roster in rosters if roster['owner_id'] == user['user_id']][0]\n",
    "    for p_id in roster['players']:\n",
    "        player_id.append(p_id)\n",
    "        owner_id2.append(user['user_id'])\n",
    "        player_name.append(data[p_id]['full_name'])\n",
    "    owner_id.append(user['user_id'])\n",
    "    wins.append(roster['settings']['wins'])\n",
    "    losses.append(roster['settings']['losses'])\n",
    "    wb.append(200 - roster['settings']['waiver_budget_used'])\n",
    "    max_pf.append(roster['settings']['ppts'])\n",
    "    pf.append(roster['settings']['fpts'])\n",
    "    pa.append(roster['settings']['fpts_against'])\n",
    "\n",
    "# Closing file\n",
    "f.close()\n",
    "\n",
    "league_df = pd.DataFrame({'Owner Id': owner_id, 'Wins': wins, 'Losses': losses, 'Waiver Budget': wb, 'Max PF': max_pf, 'PF': pf, 'PA': pa})\n",
    "player_df = pd.DataFrame({'Player Name': player_name, 'Player Id': player_id, 'Owner Id': owner_id2})"
   ]
  },
  {
   "cell_type": "code",
   "execution_count": 68,
   "metadata": {},
   "outputs": [
    {
     "data": {
      "text/html": [
       "<div>\n",
       "<style scoped>\n",
       "    .dataframe tbody tr th:only-of-type {\n",
       "        vertical-align: middle;\n",
       "    }\n",
       "\n",
       "    .dataframe tbody tr th {\n",
       "        vertical-align: top;\n",
       "    }\n",
       "\n",
       "    .dataframe thead th {\n",
       "        text-align: right;\n",
       "    }\n",
       "</style>\n",
       "<table border=\"1\" class=\"dataframe\">\n",
       "  <thead>\n",
       "    <tr style=\"text-align: right;\">\n",
       "      <th></th>\n",
       "      <th>Owner Id</th>\n",
       "      <th>Wins</th>\n",
       "      <th>Losses</th>\n",
       "      <th>Waiver Budget</th>\n",
       "      <th>Max PF</th>\n",
       "      <th>PF</th>\n",
       "      <th>PA</th>\n",
       "    </tr>\n",
       "  </thead>\n",
       "  <tbody>\n",
       "    <tr>\n",
       "      <th>0</th>\n",
       "      <td>859924767849963520</td>\n",
       "      <td>4</td>\n",
       "      <td>2</td>\n",
       "      <td>195</td>\n",
       "      <td>827</td>\n",
       "      <td>765</td>\n",
       "      <td>730</td>\n",
       "    </tr>\n",
       "    <tr>\n",
       "      <th>1</th>\n",
       "      <td>859927095139270656</td>\n",
       "      <td>2</td>\n",
       "      <td>4</td>\n",
       "      <td>270</td>\n",
       "      <td>893</td>\n",
       "      <td>719</td>\n",
       "      <td>777</td>\n",
       "    </tr>\n",
       "    <tr>\n",
       "      <th>2</th>\n",
       "      <td>867861194491506688</td>\n",
       "      <td>3</td>\n",
       "      <td>3</td>\n",
       "      <td>162</td>\n",
       "      <td>949</td>\n",
       "      <td>749</td>\n",
       "      <td>751</td>\n",
       "    </tr>\n",
       "    <tr>\n",
       "      <th>3</th>\n",
       "      <td>867876367142948864</td>\n",
       "      <td>4</td>\n",
       "      <td>2</td>\n",
       "      <td>100</td>\n",
       "      <td>1039</td>\n",
       "      <td>838</td>\n",
       "      <td>807</td>\n",
       "    </tr>\n",
       "    <tr>\n",
       "      <th>4</th>\n",
       "      <td>870455446538985472</td>\n",
       "      <td>5</td>\n",
       "      <td>1</td>\n",
       "      <td>149</td>\n",
       "      <td>1001</td>\n",
       "      <td>837</td>\n",
       "      <td>747</td>\n",
       "    </tr>\n",
       "    <tr>\n",
       "      <th>5</th>\n",
       "      <td>934257798362341376</td>\n",
       "      <td>2</td>\n",
       "      <td>4</td>\n",
       "      <td>235</td>\n",
       "      <td>987</td>\n",
       "      <td>851</td>\n",
       "      <td>822</td>\n",
       "    </tr>\n",
       "    <tr>\n",
       "      <th>6</th>\n",
       "      <td>979271462437572608</td>\n",
       "      <td>1</td>\n",
       "      <td>5</td>\n",
       "      <td>202</td>\n",
       "      <td>873</td>\n",
       "      <td>661</td>\n",
       "      <td>780</td>\n",
       "    </tr>\n",
       "    <tr>\n",
       "      <th>7</th>\n",
       "      <td>991539775981019136</td>\n",
       "      <td>0</td>\n",
       "      <td>6</td>\n",
       "      <td>43</td>\n",
       "      <td>783</td>\n",
       "      <td>626</td>\n",
       "      <td>902</td>\n",
       "    </tr>\n",
       "    <tr>\n",
       "      <th>8</th>\n",
       "      <td>993326596813545472</td>\n",
       "      <td>4</td>\n",
       "      <td>2</td>\n",
       "      <td>180</td>\n",
       "      <td>961</td>\n",
       "      <td>811</td>\n",
       "      <td>800</td>\n",
       "    </tr>\n",
       "    <tr>\n",
       "      <th>9</th>\n",
       "      <td>996563003929796608</td>\n",
       "      <td>5</td>\n",
       "      <td>1</td>\n",
       "      <td>170</td>\n",
       "      <td>1133</td>\n",
       "      <td>1002</td>\n",
       "      <td>744</td>\n",
       "    </tr>\n",
       "  </tbody>\n",
       "</table>\n",
       "</div>"
      ],
      "text/plain": [
       "             Owner Id  Wins  Losses  Waiver Budget  Max PF    PF   PA\n",
       "0  859924767849963520     4       2            195     827   765  730\n",
       "1  859927095139270656     2       4            270     893   719  777\n",
       "2  867861194491506688     3       3            162     949   749  751\n",
       "3  867876367142948864     4       2            100    1039   838  807\n",
       "4  870455446538985472     5       1            149    1001   837  747\n",
       "5  934257798362341376     2       4            235     987   851  822\n",
       "6  979271462437572608     1       5            202     873   661  780\n",
       "7  991539775981019136     0       6             43     783   626  902\n",
       "8  993326596813545472     4       2            180     961   811  800\n",
       "9  996563003929796608     5       1            170    1133  1002  744"
      ]
     },
     "execution_count": 68,
     "metadata": {},
     "output_type": "execute_result"
    }
   ],
   "source": [
    "league_df"
   ]
  },
  {
   "cell_type": "code",
   "execution_count": 69,
   "metadata": {},
   "outputs": [
    {
     "data": {
      "text/html": [
       "<div>\n",
       "<style scoped>\n",
       "    .dataframe tbody tr th:only-of-type {\n",
       "        vertical-align: middle;\n",
       "    }\n",
       "\n",
       "    .dataframe tbody tr th {\n",
       "        vertical-align: top;\n",
       "    }\n",
       "\n",
       "    .dataframe thead th {\n",
       "        text-align: right;\n",
       "    }\n",
       "</style>\n",
       "<table border=\"1\" class=\"dataframe\">\n",
       "  <thead>\n",
       "    <tr style=\"text-align: right;\">\n",
       "      <th></th>\n",
       "      <th>Player Name</th>\n",
       "      <th>Player Id</th>\n",
       "      <th>Owner Id</th>\n",
       "    </tr>\n",
       "  </thead>\n",
       "  <tbody>\n",
       "    <tr>\n",
       "      <th>0</th>\n",
       "      <td>Marvin Jones</td>\n",
       "      <td>1067</td>\n",
       "      <td>859924767849963520</td>\n",
       "    </tr>\n",
       "    <tr>\n",
       "      <th>1</th>\n",
       "      <td>Allen Robinson</td>\n",
       "      <td>1992</td>\n",
       "      <td>859924767849963520</td>\n",
       "    </tr>\n",
       "    <tr>\n",
       "      <th>2</th>\n",
       "      <td>Davante Adams</td>\n",
       "      <td>2133</td>\n",
       "      <td>859924767849963520</td>\n",
       "    </tr>\n",
       "    <tr>\n",
       "      <th>3</th>\n",
       "      <td>Logan Thomas</td>\n",
       "      <td>2251</td>\n",
       "      <td>859924767849963520</td>\n",
       "    </tr>\n",
       "    <tr>\n",
       "      <th>4</th>\n",
       "      <td>Tyler Lockett</td>\n",
       "      <td>2374</td>\n",
       "      <td>859924767849963520</td>\n",
       "    </tr>\n",
       "    <tr>\n",
       "      <th>...</th>\n",
       "      <td>...</td>\n",
       "      <td>...</td>\n",
       "      <td>...</td>\n",
       "    </tr>\n",
       "    <tr>\n",
       "      <th>265</th>\n",
       "      <td>Elijah Mitchell</td>\n",
       "      <td>7561</td>\n",
       "      <td>996563003929796608</td>\n",
       "    </tr>\n",
       "    <tr>\n",
       "      <th>266</th>\n",
       "      <td>Ja'Marr Chase</td>\n",
       "      <td>7564</td>\n",
       "      <td>996563003929796608</td>\n",
       "    </tr>\n",
       "    <tr>\n",
       "      <th>267</th>\n",
       "      <td>Calvin Austin</td>\n",
       "      <td>8125</td>\n",
       "      <td>996563003929796608</td>\n",
       "    </tr>\n",
       "    <tr>\n",
       "      <th>268</th>\n",
       "      <td>Isiah Pacheco</td>\n",
       "      <td>8205</td>\n",
       "      <td>996563003929796608</td>\n",
       "    </tr>\n",
       "    <tr>\n",
       "      <th>269</th>\n",
       "      <td>De'Von Achane</td>\n",
       "      <td>9226</td>\n",
       "      <td>996563003929796608</td>\n",
       "    </tr>\n",
       "  </tbody>\n",
       "</table>\n",
       "<p>270 rows × 3 columns</p>\n",
       "</div>"
      ],
      "text/plain": [
       "         Player Name Player Id            Owner Id\n",
       "0       Marvin Jones      1067  859924767849963520\n",
       "1     Allen Robinson      1992  859924767849963520\n",
       "2      Davante Adams      2133  859924767849963520\n",
       "3       Logan Thomas      2251  859924767849963520\n",
       "4      Tyler Lockett      2374  859924767849963520\n",
       "..               ...       ...                 ...\n",
       "265  Elijah Mitchell      7561  996563003929796608\n",
       "266    Ja'Marr Chase      7564  996563003929796608\n",
       "267    Calvin Austin      8125  996563003929796608\n",
       "268    Isiah Pacheco      8205  996563003929796608\n",
       "269    De'Von Achane      9226  996563003929796608\n",
       "\n",
       "[270 rows x 3 columns]"
      ]
     },
     "execution_count": 69,
     "metadata": {},
     "output_type": "execute_result"
    }
   ],
   "source": [
    "player_df"
   ]
  }
 ],
 "metadata": {
  "kernelspec": {
   "display_name": "Python 3",
   "language": "python",
   "name": "python3"
  },
  "language_info": {
   "codemirror_mode": {
    "name": "ipython",
    "version": 3
   },
   "file_extension": ".py",
   "mimetype": "text/x-python",
   "name": "python",
   "nbconvert_exporter": "python",
   "pygments_lexer": "ipython3",
   "version": "3.9.1"
  }
 },
 "nbformat": 4,
 "nbformat_minor": 2
}
