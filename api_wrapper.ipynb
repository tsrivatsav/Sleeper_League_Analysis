{
 "cells": [
  {
   "cell_type": "markdown",
   "metadata": {},
   "source": [
    "Import necessary dependencies"
   ]
  },
  {
   "cell_type": "code",
   "execution_count": 1,
   "metadata": {},
   "outputs": [],
   "source": [
    "from sleeper_wrapper import League\n",
    "\n"
   ]
  },
  {
   "cell_type": "code",
   "execution_count": 3,
   "metadata": {},
   "outputs": [
    {
     "name": "stdout",
     "output_type": "stream",
     "text": [
      "[('Salty Tua', '5', '1', '1002'), ('A-mon on a mission', '5', '1', '837'), ('Lucho123', '4', '2', '838'), ('Easy Pickens', '4', '2', '811'), ('Tuanon Confederation ', '4', '2', '765'), (\"LaMickey's Negotiators\", '3', '3', '749'), ('dakerman', '2', '4', '851'), ('Scrote Squad', '2', '4', '719'), ('ErozEn30', '1', '5', '661'), ('AFC Richardson', '0', '6', '626')]\n"
     ]
    }
   ],
   "source": [
    "# creates the league object and stores its basic data\n",
    "league = League(978478860268351488)\n",
    "rosters = league.get_rosters()\n",
    "users = league.get_users()\n",
    "\n",
    "# gets the matchups for the first week\n",
    "matchups = league.get_matchups(week=1)\n",
    "\n",
    "# retrieves the standings and returns them with user information\n",
    "standings = league.get_standings(rosters=rosters, users=users)\n",
    "\n",
    "print(standings)"
   ]
  },
  {
   "cell_type": "code",
   "execution_count": 7,
   "metadata": {},
   "outputs": [
    {
     "name": "stdout",
     "output_type": "stream",
     "text": [
      "[{'player_id': '5917', 'count': 218589}, {'player_id': '5916', 'count': 178361}, {'player_id': '345', 'count': 133555}, {'player_id': 'LAR', 'count': 118007}, {'player_id': '4111', 'count': 107808}, {'player_id': 'SEA', 'count': 104311}, {'player_id': 'TB', 'count': 102205}, {'player_id': '4454', 'count': 95553}, {'player_id': '2747', 'count': 91915}, {'player_id': '9482', 'count': 77422}]\n"
     ]
    }
   ],
   "source": [
    "from sleeper_wrapper import Players\n",
    "\n",
    "players = Players()\n",
    "\n",
    "# gets all NFL players in the Sleeper system\n",
    "all_players = players.get_all_players()\n",
    "\n",
    "# gets the top 10 added NFL players in the last 24 hours\n",
    "trending_players = players.get_trending_players(sport=\"nfl\", add_drop=\"add\", hours=24, limit=10)\n",
    "print(trending_players)"
   ]
  },
  {
   "cell_type": "code",
   "execution_count": 10,
   "metadata": {},
   "outputs": [
    {
     "name": "stdout",
     "output_type": "stream",
     "text": [
      "{'pts_ppr': 10.0, 'pts_std': 10.0, 'pts_half_ppr': 10.0}\n"
     ]
    }
   ],
   "source": [
    "from sleeper_wrapper import Stats\n",
    "\n",
    "stats = Stats()\n",
    "\n",
    "# pulls all of the stats for week 1 of the 2023 regular season\n",
    "week_stats = stats.get_week_stats(\"regular\", 2023, 6)\n",
    "\n",
    "# retrieves stats for the Detroit defense for the provided week\n",
    "score = stats.get_player_week_score(week_stats, \"DET\")\n",
    "print(score)"
   ]
  }
 ],
 "metadata": {
  "kernelspec": {
   "display_name": "Python 3",
   "language": "python",
   "name": "python3"
  },
  "language_info": {
   "codemirror_mode": {
    "name": "ipython",
    "version": 3
   },
   "file_extension": ".py",
   "mimetype": "text/x-python",
   "name": "python",
   "nbconvert_exporter": "python",
   "pygments_lexer": "ipython3",
   "version": "3.9.1"
  }
 },
 "nbformat": 4,
 "nbformat_minor": 2
}
